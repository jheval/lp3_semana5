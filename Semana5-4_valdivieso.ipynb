{
 "cells": [
  {
   "cell_type": "markdown",
   "id": "e3cebc2c",
   "metadata": {},
   "source": [
    "# SEMANA 05\n",
    "Valdivieso Sanchez Jheremy Victor"
   ]
  },
  {
   "cell_type": "markdown",
   "id": "860244e0",
   "metadata": {},
   "source": [
    "Temas\n",
    "1. Colecciones de datos\n",
    "2. Estructuras Decisivas y Estructuras Repetitivas\n",
    "3. Funciones\n",
    "4. Clases y Objetos"
   ]
  },
  {
   "cell_type": "markdown",
   "id": "6004f2d4",
   "metadata": {},
   "source": [
    "4. Clases y Objetos"
   ]
  },
  {
   "cell_type": "code",
   "execution_count": 3,
   "id": "919bca24",
   "metadata": {},
   "outputs": [],
   "source": [
    "# Problema 01\n",
    "\n",
    "# Crear la siguiente clase:\n",
    "#   - Clase: Persona\n",
    "#   - Atributos: nombre, apellido, fecha_nacimiento, dni"
   ]
  },
  {
   "cell_type": "code",
   "execution_count": 4,
   "id": "27ecc28e",
   "metadata": {},
   "outputs": [],
   "source": [
    "class Persona:\n",
    "    nombre = \"\"\n",
    "    apellidos = \"\"\n",
    "    dni = \"\"\n",
    "    talla = 0"
   ]
  },
  {
   "cell_type": "code",
   "execution_count": 5,
   "id": "3691f62e",
   "metadata": {},
   "outputs": [
    {
     "name": "stdout",
     "output_type": "stream",
     "text": [
      "persona1\n",
      "Nombre: Orlando\n",
      "Apellidos: Perez Prado\n",
      "DNI: 12345678\n",
      "Talla: 1.7\n"
     ]
    }
   ],
   "source": [
    "# Creamos un objeto persona1 de la clase Persona()\n",
    "# y le asignamos valores\n",
    "\n",
    "#Creación del objeto persona1\n",
    "persona1 = Persona()\n",
    "\n",
    "# Asignamos valores al objeto\n",
    "persona1.nombre = \"Orlando\"\n",
    "persona1.apellidos = \"Perez Prado\"\n",
    "persona1.dni = \"12345678\"\n",
    "persona1.talla = 1.7\n",
    "\n",
    "# Para mostrar valores del objeto:\n",
    "print(\"persona1\")\n",
    "print(f\"Nombre: {persona1.nombre}\")\n",
    "print(f\"Apellidos: {persona1.apellidos}\")\n",
    "print(f\"DNI: {persona1.dni}\")\n",
    "print(f\"Talla: {persona1.talla}\")"
   ]
  },
  {
   "cell_type": "code",
   "execution_count": 6,
   "id": "23352711",
   "metadata": {},
   "outputs": [],
   "source": [
    "# Para utilizar constructores utilizamos: __init__\n",
    "# ¿Qué es un constructor?\n",
    "# - Es un método\n",
    "# - Sirve para inicializar valores a una clase"
   ]
  },
  {
   "cell_type": "code",
   "execution_count": 7,
   "id": "bd38e4c4",
   "metadata": {},
   "outputs": [],
   "source": [
    "#Problema 02:\n",
    "\n",
    "# Crear la siguiente clase y utilizar constructores:\n",
    "#  - Clase: Curso\n",
    "#  - Atributos: Codigo, Nombre, horas, creditos,"
   ]
  },
  {
   "cell_type": "code",
   "execution_count": 8,
   "id": "1435e62d",
   "metadata": {},
   "outputs": [],
   "source": [
    "# Solución:\n",
    "class curso:\n",
    "    def __init__(self, codigo, nombre, horas, creditos):\n",
    "        self.codigo = codigo\n",
    "        self.nombre = nombre\n",
    "        self.horas = horas\n",
    "        self.creditos = creditos\n",
    "\n",
    "    def mostrar_datos_curso(self):\n",
    "        print(f\"Curso: {self.nombre}\")\n",
    "        print(f\"Código: {self.codigo}\")\n",
    "        print(f\"Horas: {self.horas}\")\n",
    "        print(f\"Créditos: {self.creditos}\")"
   ]
  },
  {
   "cell_type": "code",
   "execution_count": 9,
   "id": "9fd717ea",
   "metadata": {},
   "outputs": [],
   "source": [
    "# Creamos el objeto curso1 y le mandamos parámetros\n",
    "curso1 = curso(\"C0501\",\"LP3\",6,3)"
   ]
  },
  {
   "cell_type": "code",
   "execution_count": 10,
   "id": "d530c756",
   "metadata": {},
   "outputs": [
    {
     "name": "stdout",
     "output_type": "stream",
     "text": [
      "Curso: LP3\n",
      "Código: C0501\n",
      "Horas: 6\n",
      "Créditos: 3\n"
     ]
    }
   ],
   "source": [
    "# Mostramos los datos completos del curso, ejecutando el metodo mostrar_datos_curso()\n",
    "curso1.mostrar_datos_curso();"
   ]
  },
  {
   "cell_type": "code",
   "execution_count": null,
   "id": "3338bb82",
   "metadata": {},
   "outputs": [],
   "source": []
  },
  {
   "cell_type": "code",
   "execution_count": null,
   "id": "52198784",
   "metadata": {},
   "outputs": [],
   "source": []
  },
  {
   "cell_type": "code",
   "execution_count": 12,
   "id": "11d1c19b",
   "metadata": {},
   "outputs": [
    {
     "name": "stdout",
     "output_type": "stream",
     "text": [
      "Curso: LP3\n",
      "Código: C0501\n",
      "Horas: 6.0\n",
      "Créditos: 3.333\n"
     ]
    }
   ],
   "source": [
    "curso2 = curso(\"C0501\",\"LP3\",6.0,3.333)\n",
    "curso2.mostrar_datos_curso();"
   ]
  },
  {
   "cell_type": "code",
   "execution_count": null,
   "id": "f95a14ed",
   "metadata": {},
   "outputs": [],
   "source": []
  },
  {
   "cell_type": "code",
   "execution_count": null,
   "id": "8077a6e2",
   "metadata": {},
   "outputs": [],
   "source": []
  },
  {
   "cell_type": "code",
   "execution_count": null,
   "id": "4a715458",
   "metadata": {},
   "outputs": [],
   "source": []
  }
 ],
 "metadata": {
  "kernelspec": {
   "display_name": "Python 3 (ipykernel)",
   "language": "python",
   "name": "python3"
  },
  "language_info": {
   "codemirror_mode": {
    "name": "ipython",
    "version": 3
   },
   "file_extension": ".py",
   "mimetype": "text/x-python",
   "name": "python",
   "nbconvert_exporter": "python",
   "pygments_lexer": "ipython3",
   "version": "3.9.12"
  }
 },
 "nbformat": 4,
 "nbformat_minor": 5
}
