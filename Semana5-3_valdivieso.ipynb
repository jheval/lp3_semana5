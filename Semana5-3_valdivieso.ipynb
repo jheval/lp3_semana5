{
 "cells": [
  {
   "cell_type": "markdown",
   "id": "036ac5c2",
   "metadata": {},
   "source": [
    "# SEMANA 5\n",
    "Temas\n",
    "\n",
    "1. Colecciones de datos\n",
    "2. Estructuras Decisivas y Estructuras Repetitivas\n",
    "3. Funciones\n",
    "4. Clases y Objetos"
   ]
  },
  {
   "cell_type": "markdown",
   "id": "87bcd738",
   "metadata": {},
   "source": [
    "3. Funciones"
   ]
  },
  {
   "cell_type": "code",
   "execution_count": 1,
   "id": "66d7b9e6",
   "metadata": {},
   "outputs": [],
   "source": [
    "# También conocidos como métodos\n",
    "\n",
    "# Para crear un método utilizamos: def\n",
    "# Tenemos 4 métodos:\n",
    "# - Métodos vacíos\n",
    "# - Métodos que reciben valores\n",
    "# - Métodos que devuelven un valor\n",
    "# - Métodos que reciben y devuelven valores"
   ]
  },
  {
   "cell_type": "code",
   "execution_count": 2,
   "id": "cd642ee9",
   "metadata": {},
   "outputs": [],
   "source": [
    "# 3.1 Métodos vacíos\n",
    "# Explicación: No recibe valores (Parámetros)\n",
    "\n",
    "def saludo():\n",
    "    print(\"Bienvenidos al curso de LP3\")\n",
    "    print(\"**** Python ****\")"
   ]
  },
  {
   "cell_type": "code",
   "execution_count": 3,
   "id": "953824bc",
   "metadata": {},
   "outputs": [
    {
     "name": "stdout",
     "output_type": "stream",
     "text": [
      "Bienvenidos al curso de LP3\n",
      "**** Python ****\n"
     ]
    }
   ],
   "source": [
    "saludo()"
   ]
  },
  {
   "cell_type": "code",
   "execution_count": 4,
   "id": "26a53f4b",
   "metadata": {},
   "outputs": [],
   "source": [
    "# 3.2 Métodos que reciben valores\n",
    "\n",
    "def factorial(numero):\n",
    "    fac = 1\n",
    "    for i in range(1,numero+1):\n",
    "        fac*=i\n",
    "        # fac = fac*i\n",
    "    print(f\"El factorial es: {fac}\")"
   ]
  },
  {
   "cell_type": "code",
   "execution_count": 5,
   "id": "6734a2df",
   "metadata": {},
   "outputs": [
    {
     "name": "stdout",
     "output_type": "stream",
     "text": [
      "Ingrese Numero: 5\n",
      "El factorial es: 120\n"
     ]
    }
   ],
   "source": [
    "numero = int(input(\"Ingrese Numero: \"))\n",
    "factorial(numero)"
   ]
  },
  {
   "cell_type": "code",
   "execution_count": 6,
   "id": "a2d5e307",
   "metadata": {},
   "outputs": [],
   "source": [
    "# 3.3 Métodos que devuelven valores\n",
    "def saludo2():\n",
    "    mensaje = \"Bienvenidos a LP3\"\n",
    "    return mensaje"
   ]
  },
  {
   "cell_type": "code",
   "execution_count": 7,
   "id": "92c526e6",
   "metadata": {},
   "outputs": [
    {
     "name": "stdout",
     "output_type": "stream",
     "text": [
      "Bienvenidos a LP3\n"
     ]
    }
   ],
   "source": [
    "print(saludo2())"
   ]
  },
  {
   "cell_type": "code",
   "execution_count": 8,
   "id": "350d3c50",
   "metadata": {},
   "outputs": [],
   "source": [
    "# 3.4 Métodos que reciben y devuelven valores\n",
    "\n",
    "def factorial2(numero):\n",
    "    fac = 1\n",
    "    for i in range(1,numero+1):\n",
    "        fac*=i\n",
    "        # fac = fac*i\n",
    "    return fac"
   ]
  },
  {
   "cell_type": "code",
   "execution_count": 9,
   "id": "a59a49a7",
   "metadata": {},
   "outputs": [
    {
     "name": "stdout",
     "output_type": "stream",
     "text": [
      "Numero: 5\n",
      "El factorial de 5 es 120\n"
     ]
    }
   ],
   "source": [
    "numero = int(input(\"Numero: \"))\n",
    "print(f\"El factorial de {numero} es {factorial2(numero)}\")"
   ]
  },
  {
   "cell_type": "code",
   "execution_count": 10,
   "id": "3db0b607",
   "metadata": {},
   "outputs": [],
   "source": [
    "# Otro ejemplo\n",
    "# Calcular el IGV\n",
    "def obtenerigv(importe):\n",
    "    return importe*0.19"
   ]
  },
  {
   "cell_type": "code",
   "execution_count": 11,
   "id": "5d611d18",
   "metadata": {},
   "outputs": [
    {
     "data": {
      "text/plain": [
       "28.5"
      ]
     },
     "execution_count": 11,
     "metadata": {},
     "output_type": "execute_result"
    }
   ],
   "source": [
    "obtenerigv(150)"
   ]
  },
  {
   "cell_type": "code",
   "execution_count": 12,
   "id": "666bb981",
   "metadata": {},
   "outputs": [
    {
     "data": {
      "text/plain": [
       "140"
      ]
     },
     "execution_count": 12,
     "metadata": {},
     "output_type": "execute_result"
    }
   ],
   "source": [
    "factorial2(5)+20"
   ]
  },
  {
   "cell_type": "code",
   "execution_count": null,
   "id": "6f1086b8",
   "metadata": {},
   "outputs": [],
   "source": []
  },
  {
   "cell_type": "code",
   "execution_count": null,
   "id": "1cb172f7",
   "metadata": {},
   "outputs": [],
   "source": []
  },
  {
   "cell_type": "code",
   "execution_count": null,
   "id": "84249eed",
   "metadata": {},
   "outputs": [],
   "source": []
  },
  {
   "cell_type": "code",
   "execution_count": null,
   "id": "2cf234a6",
   "metadata": {},
   "outputs": [],
   "source": []
  },
  {
   "cell_type": "code",
   "execution_count": null,
   "id": "5ea177b6",
   "metadata": {},
   "outputs": [],
   "source": []
  },
  {
   "cell_type": "code",
   "execution_count": null,
   "id": "873b4a61",
   "metadata": {},
   "outputs": [],
   "source": []
  },
  {
   "cell_type": "code",
   "execution_count": null,
   "id": "630aac15",
   "metadata": {},
   "outputs": [],
   "source": []
  },
  {
   "cell_type": "code",
   "execution_count": null,
   "id": "1d09859f",
   "metadata": {},
   "outputs": [],
   "source": []
  },
  {
   "cell_type": "code",
   "execution_count": null,
   "id": "d2f7c5a1",
   "metadata": {},
   "outputs": [],
   "source": []
  }
 ],
 "metadata": {
  "kernelspec": {
   "display_name": "Python 3 (ipykernel)",
   "language": "python",
   "name": "python3"
  },
  "language_info": {
   "codemirror_mode": {
    "name": "ipython",
    "version": 3
   },
   "file_extension": ".py",
   "mimetype": "text/x-python",
   "name": "python",
   "nbconvert_exporter": "python",
   "pygments_lexer": "ipython3",
   "version": "3.9.12"
  }
 },
 "nbformat": 4,
 "nbformat_minor": 5
}
